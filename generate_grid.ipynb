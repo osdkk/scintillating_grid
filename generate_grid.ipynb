{
 "cells": [
  {
   "cell_type": "code",
   "execution_count": 1,
   "metadata": {},
   "outputs": [],
   "source": [
    "import os\n",
    "import glob\n",
    "import random\n",
    "\n",
    "import numpy as np\n",
    "import matplotlib.pyplot as plt\n",
    "from PIL import Image\n",
    "import cv2\n",
    "\n",
    "from illusion_grid_generator import IllusionGridGenerator"
   ]
  },
  {
   "cell_type": "code",
   "execution_count": 3,
   "metadata": {},
   "outputs": [],
   "source": [
    "grid_parms = {\n",
    "  'size': 224,\n",
    "  'square_size': 40,\n",
    "  'start_position': 30,\n",
    "  'line_width': 3,\n",
    "  'line_luminance': .5,\n",
    "  'circle_radius': 4,\n",
    "  'circle_luminance': 1.\n",
    "}\n",
    "\n",
    "grid = IllusionGridGenerator(**grid_parms)"
   ]
  },
  {
   "cell_type": "code",
   "execution_count": 4,
   "metadata": {},
   "outputs": [],
   "source": [
    "data_dir = './data'\n",
    "square_size_list = [20, 25, 30, 35, 40, 45, 50, 55, 60, 65, 70, 75, 80, 85, 90, 95, 100]\n",
    "start_position_list = [10, 15, 20, 25, 30, 35, 40]\n",
    "mu_list = np.arange(0, 1.05, 0.05)\n",
    "\n",
    "for square_size in square_size_list:\n",
    "  grid.square_size = square_size\n",
    "  \n",
    "  for start_position in start_position_list:\n",
    "    grid.start_position = start_position\n",
    "\n",
    "    for mu in mu_list:\n",
    "      grid.circle_luminance = mu\n",
    "\n",
    "      grid.generate_grid()\n",
    "      grid.save_image(data_dir)"
   ]
  },
  {
   "cell_type": "code",
   "execution_count": null,
   "metadata": {},
   "outputs": [],
   "source": []
  }
 ],
 "metadata": {
  "kernelspec": {
   "display_name": "Python 3",
   "language": "python",
   "name": "python3"
  },
  "language_info": {
   "codemirror_mode": {
    "name": "ipython",
    "version": 3
   },
   "file_extension": ".py",
   "mimetype": "text/x-python",
   "name": "python",
   "nbconvert_exporter": "python",
   "pygments_lexer": "ipython3",
   "version": "3.8.10"
  },
  "orig_nbformat": 4
 },
 "nbformat": 4,
 "nbformat_minor": 2
}
