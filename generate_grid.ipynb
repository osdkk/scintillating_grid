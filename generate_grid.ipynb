{
 "cells": [
  {
   "cell_type": "code",
   "execution_count": 1,
   "metadata": {},
   "outputs": [],
   "source": [
    "import os\n",
    "import glob\n",
    "import random\n",
    "\n",
    "import numpy as np\n",
    "import matplotlib.pyplot as plt\n",
    "from PIL import Image\n",
    "import cv2\n",
    "\n",
    "from illusion_grid_generator import IllusionGridGenerator"
   ]
  },
  {
   "cell_type": "code",
   "execution_count": 2,
   "metadata": {},
   "outputs": [],
   "source": [
    "grid_params = {\n",
    "  'size': 224,\n",
    "  'square_size': None,\n",
    "  'start_position': None,\n",
    "\n",
    "  'line_width': 4,\n",
    "  'line_luminance': .5,\n",
    "  'curve_amplitude': 0,\n",
    "  \n",
    "  'circle_radius': 5,\n",
    "  'circle_luminance': 1.,\n",
    "  'offset_bars': False,\n",
    "  \n",
    "  'scaling': 4,\n",
    "}\n",
    "\n",
    "grid_type = {\n",
    "  'a_scintillating': grid_params.copy(),\n",
    "  'b_sin_curve': grid_params.copy(),\n",
    "  'c_large_circle': grid_params.copy(),\n",
    "  'd_offset_bars': grid_params.copy(),\n",
    "  'e_no_bars': grid_params.copy(),\n",
    "}\n",
    "\n",
    "grid_type['b_sin_curve']['curve_amplitude'] = 4\n",
    "grid_type['c_large_circle']['circle_radius'] = 10\n",
    "grid_type['d_offset_bars']['offset_bars'] = True\n",
    "grid_type['e_no_bars']['line_width'] = 0\n",
    "\n",
    "\n"
   ]
  },
  {
   "cell_type": "code",
   "execution_count": 3,
   "metadata": {},
   "outputs": [],
   "source": [
    "data_dir = './data'\n",
    "square_size_list = np.arange(40, 120, 5, dtype=np.int32)\n",
    "start_position_list = np.arange(10, 90, 10, dtype=np.int32)\n",
    "\n",
    "mu_list = np.arange(0, 1.05, 0.05)\n",
    "\n",
    "for type_name in grid_type.keys():\n",
    "  grid = IllusionGridGenerator(**grid_type[type_name])\n",
    "\n",
    "  for square_size in square_size_list:\n",
    "    grid.square_size = square_size\n",
    "    for start_position in start_position_list:\n",
    "      grid.start_position = start_position\n",
    "\n",
    "      for mu in mu_list:\n",
    "        grid.circle_luminance = mu\n",
    "\n",
    "        grid.generate_grid()\n",
    "        grid.save_image(data_dir, type_name)"
   ]
  },
  {
   "cell_type": "raw",
   "metadata": {},
   "source": [
    "size 固定\n",
    "square_size 可変\n",
    "start_position 可変\n",
    "line_width パラメタ\n",
    "line_luminance 固定\n",
    "curve_amplitude パラメタ\n",
    "circle_radius パラメタ\n",
    "circle_luminance 常に21段階\n",
    "circle_offset パラメタ\n",
    "scaling=8 固定"
   ]
  },
  {
   "cell_type": "code",
   "execution_count": 130,
   "metadata": {},
   "outputs": [
    {
     "name": "stdout",
     "output_type": "stream",
     "text": [
      "[  0   1   2   3   4   5   6   7   8   9  10  11  12  13  14  15  16  17\n",
      "  18  19  20  21  22  23  24  25  26  27  28  29  30  31  32  33  34  35\n",
      "  36  37  38  39  40  41  42  43  44  45  46  47  48  49  50  51  52  53\n",
      "  54  55  56  57  58  59  60  61  62  63  64  65  66  67  68  69  70  71\n",
      "  72  73  74  75  76  77  78  79  80  81  82  83  84  85  86  87  88  89\n",
      "  90  91  92  93  94  95  96  97  98  99 100 101 102 103 104 105 106 107\n",
      " 108 109 110 111 112 113 114 115 116 117 118 119 120 121 122 123 124 125\n",
      " 126 127 128 129 130 131 132 133 134 135 136 137 138 139 140 141 142 143\n",
      " 144 145 146 147 148 149 150 151 152 153 154 155 156 157 158 159 160 161\n",
      " 162 163 164 165 166 167 168 169 170 171 172 173 174 175 176 177 178 179\n",
      " 180 181 182 183 184 185 186 187 188 189 190 191 192 193 194 195 196 197\n",
      " 198 199 200 201 202 203 204 205 206 207 208 209 210 211 212 213 214 215\n",
      " 216 217 218 219 220 221 222 223 224]\n"
     ]
    }
   ],
   "source": [
    "def generate_hermann_grid(size, square_size, line_width, start_position, circle_radius, amplitude = 4):\n",
    "  # 画像の初期化\n",
    "  image = np.zeros((size, size), dtype=np.uint8)\n",
    "  # 直線の描画 （縦方向）\n",
    "  x = np.linspace(0, size, size+1, dtype=np.int32)\n",
    "  print(x)\n",
    "  for i in range(start_position, size, square_size):\n",
    "    sin_x = i + amplitude * np.sin( (x-start_position) / (square_size / (2 * np.pi)))\n",
    "    sin_x = np.round(sin_x).astype(int)\n",
    "    for j in range(len(x) - 1):\n",
    "      cv2.line(image, (x[j], sin_x[j]), (x[j + 1], sin_x[j + 1]), 255, line_width)\n",
    "\n",
    "  # 直線の描画（横方向）\n",
    "  y = np.linspace(0, size, size+1, dtype=np.int32)\n",
    "  for i in range(start_position, size, square_size):\n",
    "    sin_y = i + amplitude * np.sin( (y-start_position) / (square_size / (2 * np.pi)))\n",
    "    sin_y = np.round(sin_y).astype(int)\n",
    "    for j in range(len(y) - 1):\n",
    "      cv2.line(image, (sin_y[j], y[j]), (sin_y[j + 1], y[j + 1]), 255, line_width)\n",
    "\n",
    "  # 交点に円を描画\n",
    "  for i in range(start_position, size, square_size):\n",
    "    for j in range(start_position, size, square_size):\n",
    "      cv2.circle(image, (j, i), circle_radius, 180, -1)\n",
    "\n",
    "  return image\n",
    "\n",
    "# パラメータ設定\n",
    "size = 224\n",
    "square_size = 50\n",
    "line_width = 2\n",
    "start_position = 10\n",
    "circle_radius = 4\n",
    "\n",
    "# ヘルマン格子画像の生成\n",
    "image = generate_hermann_grid(size, square_size, line_width, start_position, circle_radius)"
   ]
  },
  {
   "cell_type": "code",
   "execution_count": 131,
   "metadata": {},
   "outputs": [
    {
     "data": {
      "image/png": "[encoded data removed]",
      "text/plain": [
       "<PIL.Image.Image image mode=L size=224x224>"
      ]
     },
     "execution_count": 131,
     "metadata": {},
     "output_type": "execute_result"
    }
   ],
   "source": [
    "Image.fromarray(image)"
   ]
  },
  {
   "cell_type": "code",
   "execution_count": 107,
   "metadata": {},
   "outputs": [
    {
     "data": {
      "text/plain": [
       "(232, 232)"
      ]
     },
     "execution_count": 107,
     "metadata": {},
     "output_type": "execute_result"
    }
   ],
   "source": [
    "image.shape"
   ]
  },
  {
   "cell_type": "code",
   "execution_count": 12,
   "metadata": {},
   "outputs": [
    {
     "data": {
      "text/plain": [
       "224"
      ]
     },
     "execution_count": 12,
     "metadata": {},
     "output_type": "execute_result"
    }
   ],
   "source": [
    "size = 224\n",
    "len(np.linspace(0, size, size))"
   ]
  },
  {
   "cell_type": "code",
   "execution_count": 14,
   "metadata": {},
   "outputs": [],
   "source": []
  },
  {
   "cell_type": "code",
   "execution_count": 15,
   "metadata": {},
   "outputs": [],
   "source": [
    "square_size = grid_parms['square_size']"
   ]
  },
  {
   "cell_type": "code",
   "execution_count": 26,
   "metadata": {},
   "outputs": [],
   "source": [
    "size = 224"
   ]
  },
  {
   "cell_type": "code",
   "execution_count": 40,
   "metadata": {},
   "outputs": [],
   "source": [
    "sin_x = np.linspace(0, size-1, size, dtype=np.int32)"
   ]
  },
  {
   "cell_type": "code",
   "execution_count": 42,
   "metadata": {},
   "outputs": [],
   "source": [
    "image = np.zeros((size, size), dtype=np.uint8)\n",
    "sin_x = np.linspace(0, size-1, size, dtype=np.int32)\n",
    "sin_y = square_size * np.sin(sin_x / (square_size / (2 * np.pi)))\n",
    "sin_y[sin_y < 0] = 0\n",
    "sin_y[sin_y >= size] = size-1\n",
    "sin_y = np.round(sin_y).astype(int)"
   ]
  },
  {
   "cell_type": "code",
   "execution_count": 43,
   "metadata": {},
   "outputs": [],
   "source": [
    "for j in range(len(sin_x) - 1):\n",
    "  cv2.line(image, (sin_x[j], sin_y[j]), (sin_x[j + 1], sin_y[j + 1]), 255, line_width)"
   ]
  },
  {
   "cell_type": "code",
   "execution_count": 45,
   "metadata": {},
   "outputs": [
    {
     "data": {
      "image/png": "[encoded data removed]",
      "text/plain": [
       "<PIL.Image.Image image mode=L size=224x224>"
      ]
     },
     "execution_count": 45,
     "metadata": {},
     "output_type": "execute_result"
    }
   ],
   "source": [
    "Image.fromarray(image)"
   ]
  },
  {
   "cell_type": "code",
   "execution_count": 34,
   "metadata": {},
   "outputs": [
    {
     "data": {
      "text/plain": [
       "-40"
      ]
     },
     "execution_count": 34,
     "metadata": {},
     "output_type": "execute_result"
    }
   ],
   "source": [
    "np.min(sin_y)"
   ]
  },
  {
   "cell_type": "code",
   "execution_count": 29,
   "metadata": {},
   "outputs": [
    {
     "data": {
      "text/plain": [
       "224"
      ]
     },
     "execution_count": 29,
     "metadata": {},
     "output_type": "execute_result"
    }
   ],
   "source": [
    "len(sin_y)"
   ]
  },
  {
   "cell_type": "code",
   "execution_count": null,
   "metadata": {},
   "outputs": [],
   "source": [
    "# 画像の初期化\n",
    "\n",
    "\n",
    "# 直線の描画（縦方向）\n",
    "# for i in range(start_position, size, square_size):\n",
    "i = 0\n",
    "sin_x = np.linspace(0, size)\n",
    "sin_y = i + square_size * np.sin(sin_x / (square_size / (2 * np.pi)))\n",
    "sin_y = np.round(sin_y).astype(int)\n",
    "for j in range(len(sin_x) - 1):\n",
    "  cv2.line(image, (sin_x[j], sin_y[j]), (sin_x[j + 1], sin_y[j + 1]), 255, line_width)"
   ]
  }
 ],
 "metadata": {
  "kernelspec": {
   "display_name": "Python 3",
   "language": "python",
   "name": "python3"
  },
  "language_info": {
   "codemirror_mode": {
    "name": "ipython",
    "version": 3
   },
   "file_extension": ".py",
   "mimetype": "text/x-python",
   "name": "python",
   "nbconvert_exporter": "python",
   "pygments_lexer": "ipython3",
   "version": "3.8.10"
  },
  "orig_nbformat": 4
 },
 "nbformat": 4,
 "nbformat_minor": 2
}
